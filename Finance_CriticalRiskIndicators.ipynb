{
 "cells": [
  {
   "cell_type": "markdown",
   "metadata": {
    "slideshow": {
     "slide_type": "slide"
    }
   },
   "source": [
    "# Financial System Data"
   ]
  },
  {
   "cell_type": "markdown",
   "metadata": {},
   "source": [
    "The purpose of this script is to be a guide for the interaction between data scientists and domain scientists on the [NSF PRISM](https://news.cornell.edu/stories/2020/01/cornell-co-leads-effort-use-big-data-combat-catastrophes) team and for different domains to understand one another. The objective is to **foster creation of the necessary PRISM project and collaborative infrastructure**.\n",
    "\n",
    "\n",
    "Specifically, this script uses the financial system as the context and provides rich descriptions on dataset of different asset classes to help people with no prior knowledge of the data to explore them. The aim is to create a large, interactive data library and help researchers to understand the nonlinear relationships across disciplines using data mining and machine learning techniques.\n",
    "\n",
    "\n"
   ]
  },
  {
   "cell_type": "markdown",
   "metadata": {
    "heading_collapsed": true
   },
   "source": [
    "## Rules of usage\n"
   ]
  },
  {
   "cell_type": "markdown",
   "metadata": {
    "hidden": true
   },
   "source": [
    "1. Document all development\n",
    "    - All code and progress in this script must be *usable* to anyone that picks it up\n",
    "2. Crystallize knowledge after each development \n",
    "    - Attempt to define lessons learned and to share those in a way that will allow others to pick up where you left off\n",
    "3. *Extend this list as new rules emerge*"
   ]
  },
  {
   "cell_type": "markdown",
   "metadata": {
    "heading_collapsed": true
   },
   "source": [
    "## Financial System\n"
   ]
  },
  {
   "cell_type": "markdown",
   "metadata": {
    "hidden": true
   },
   "source": [
    "In financial markets, different assets, asset classes and portfolios are interconnected with each other. Researchers focus on individual asset's returns or return volatilities to measure the correlation between each asset class and explore how the financial systems are interconnected. \n",
    "\n",
    "This script contains the price and return for different asset classes including commodities, REITS, public utility stocks as well as major index. The description of each dataset is as below:\n",
    "\n"
   ]
  },
  {
   "cell_type": "markdown",
   "metadata": {
    "heading_collapsed": true,
    "hidden": true
   },
   "source": [
    "### Major Financial Index\n",
    "###### VIX\n",
    "In this file “VIX daily 1990-2019.csv” we have the daily CBOE S&P500 Volatility Index closing data from 1/2/1990 to 8/30/2019. The Chicago Board Options Exchange Volatility Index (ticker symbol VIX) is a measure of the stock market's expectation of volatility implied by S&P 500 index options. The current VIX index value quotes the expected annualized change in the S&P 500 index over the following 30 days. In our data sample, VIX ranges from the lowest 9.14 on 11/3/2017 to highest 80.86 on 11/20/2008.\n"
   ]
  },
  {
   "cell_type": "code",
   "execution_count": 1,
   "metadata": {},
   "outputs": [],
   "source": [
    "import pandas as pd\n",
    "import matplotlib.pyplot as plt"
   ]
  },
  {
   "cell_type": "code",
   "execution_count": 8,
   "metadata": {
    "ExecuteTime": {
     "end_time": "2020-02-05T17:11:14.459905Z",
     "start_time": "2020-02-05T17:11:14.347198Z"
    },
    "hidden": true
   },
   "outputs": [],
   "source": [
    "VIX_daily_1990_2019 = pd.read_csv('./data/finance data/VIX daily 1990-2019.csv')   "
   ]
  },
  {
   "cell_type": "code",
   "execution_count": 9,
   "metadata": {},
   "outputs": [
    {
     "data": {
      "text/html": [
       "<div>\n",
       "<style scoped>\n",
       "    .dataframe tbody tr th:only-of-type {\n",
       "        vertical-align: middle;\n",
       "    }\n",
       "\n",
       "    .dataframe tbody tr th {\n",
       "        vertical-align: top;\n",
       "    }\n",
       "\n",
       "    .dataframe thead th {\n",
       "        text-align: right;\n",
       "    }\n",
       "</style>\n",
       "<table border=\"1\" class=\"dataframe\">\n",
       "  <thead>\n",
       "    <tr style=\"text-align: right;\">\n",
       "      <th></th>\n",
       "      <th>Date</th>\n",
       "      <th>CBOE S&amp;P500 Volatility Index - Close</th>\n",
       "    </tr>\n",
       "  </thead>\n",
       "  <tbody>\n",
       "    <tr>\n",
       "      <th>0</th>\n",
       "      <td>1/2/1990</td>\n",
       "      <td>17.24</td>\n",
       "    </tr>\n",
       "    <tr>\n",
       "      <th>1</th>\n",
       "      <td>1/3/1990</td>\n",
       "      <td>18.19</td>\n",
       "    </tr>\n",
       "    <tr>\n",
       "      <th>2</th>\n",
       "      <td>1/4/1990</td>\n",
       "      <td>19.22</td>\n",
       "    </tr>\n",
       "    <tr>\n",
       "      <th>3</th>\n",
       "      <td>1/5/1990</td>\n",
       "      <td>20.11</td>\n",
       "    </tr>\n",
       "    <tr>\n",
       "      <th>4</th>\n",
       "      <td>1/8/1990</td>\n",
       "      <td>20.26</td>\n",
       "    </tr>\n",
       "  </tbody>\n",
       "</table>\n",
       "</div>"
      ],
      "text/plain": [
       "       Date  CBOE S&P500 Volatility Index - Close\n",
       "0  1/2/1990                                 17.24\n",
       "1  1/3/1990                                 18.19\n",
       "2  1/4/1990                                 19.22\n",
       "3  1/5/1990                                 20.11\n",
       "4  1/8/1990                                 20.26"
      ]
     },
     "execution_count": 9,
     "metadata": {},
     "output_type": "execute_result"
    }
   ],
   "source": [
    "VIX_daily_1990_2019.head()"
   ]
  },
  {
   "cell_type": "code",
   "execution_count": 15,
   "metadata": {},
   "outputs": [
    {
     "data": {
      "image/png": "[encoded data removed]",
      "text/plain": [
       "<Figure size 432x288 with 1 Axes>"
      ]
     },
     "metadata": {
      "needs_background": "light"
     },
     "output_type": "display_data"
    }
   ],
   "source": [
    "plt.figure()\n",
    "plt.scatter(VIX_daily_1990_2019['Date'], VIX_daily_1990_2019['CBOE S&P500 Volatility Index - Close'] )\n",
    "plt.title('VIX');\n",
    "plt.show()"
   ]
  },
  {
   "cell_type": "markdown",
   "metadata": {
    "hidden": true
   },
   "source": [
    "###### S&P500 Index\n",
    "In this file “S&P500 Daily 1990-2018.csv” we have the daily level data of the S&P 500 index and return from 1/2/1990 to 12/31/2018. S&P 500 index is a stock market index that measures the stock performance of 500 large companies listed on stock exchanges in the United States. The average return of S&P 500 index during our sample period is 0.033% and the standard deviation of return is 0.011."
   ]
  },
  {
   "cell_type": "code",
   "execution_count": 13,
   "metadata": {
    "ExecuteTime": {
     "end_time": "2020-02-05T17:11:14.459905Z",
     "start_time": "2020-02-05T17:11:14.347198Z"
    },
    "hidden": true
   },
   "outputs": [],
   "source": [
    "SP500_Daily_1990_2018 = pd.read_csv('./data/finance data/S&P500 Daily 1990-2018.csv')   "
   ]
  },
  {
   "cell_type": "code",
   "execution_count": 14,
   "metadata": {},
   "outputs": [
    {
     "data": {
      "text/html": [
       "<div>\n",
       "<style scoped>\n",
       "    .dataframe tbody tr th:only-of-type {\n",
       "        vertical-align: middle;\n",
       "    }\n",
       "\n",
       "    .dataframe tbody tr th {\n",
       "        vertical-align: top;\n",
       "    }\n",
       "\n",
       "    .dataframe thead th {\n",
       "        text-align: right;\n",
       "    }\n",
       "</style>\n",
       "<table border=\"1\" class=\"dataframe\">\n",
       "  <thead>\n",
       "    <tr style=\"text-align: right;\">\n",
       "      <th></th>\n",
       "      <th>Date</th>\n",
       "      <th>Level of the S&amp;P 500 Index</th>\n",
       "      <th>Return on the S&amp;P 500 Index</th>\n",
       "    </tr>\n",
       "  </thead>\n",
       "  <tbody>\n",
       "    <tr>\n",
       "      <th>0</th>\n",
       "      <td>1/2/1990</td>\n",
       "      <td>359.69</td>\n",
       "      <td>0.017799</td>\n",
       "    </tr>\n",
       "    <tr>\n",
       "      <th>1</th>\n",
       "      <td>1/3/1990</td>\n",
       "      <td>358.76</td>\n",
       "      <td>-0.002586</td>\n",
       "    </tr>\n",
       "    <tr>\n",
       "      <th>2</th>\n",
       "      <td>1/4/1990</td>\n",
       "      <td>355.67</td>\n",
       "      <td>-0.008613</td>\n",
       "    </tr>\n",
       "    <tr>\n",
       "      <th>3</th>\n",
       "      <td>1/5/1990</td>\n",
       "      <td>352.20</td>\n",
       "      <td>-0.009756</td>\n",
       "    </tr>\n",
       "    <tr>\n",
       "      <th>4</th>\n",
       "      <td>1/8/1990</td>\n",
       "      <td>353.79</td>\n",
       "      <td>0.004514</td>\n",
       "    </tr>\n",
       "  </tbody>\n",
       "</table>\n",
       "</div>"
      ],
      "text/plain": [
       "       Date  Level of the S&P 500 Index  Return on the S&P 500 Index\n",
       "0  1/2/1990                      359.69                     0.017799\n",
       "1  1/3/1990                      358.76                    -0.002586\n",
       "2  1/4/1990                      355.67                    -0.008613\n",
       "3  1/5/1990                      352.20                    -0.009756\n",
       "4  1/8/1990                      353.79                     0.004514"
      ]
     },
     "execution_count": 14,
     "metadata": {},
     "output_type": "execute_result"
    }
   ],
   "source": [
    "SP500_Daily_1990_2018.head()"
   ]
  },
  {
   "cell_type": "code",
   "execution_count": 16,
   "metadata": {},
   "outputs": [
    {
     "data": {
      "image/png": "[encoded data removed]",
      "text/plain": [
       "<Figure size 432x288 with 1 Axes>"
      ]
     },
     "metadata": {
      "needs_background": "light"
     },
     "output_type": "display_data"
    }
   ],
   "source": [
    "plt.figure()\n",
    "plt.scatter(SP500_Daily_1990_2018['Date'], SP500_Daily_1990_2018['Return on the S&P 500 Index'] )\n",
    "plt.title('S&P500 index');\n",
    "plt.show()"
   ]
  },
  {
   "cell_type": "markdown",
   "metadata": {
    "heading_collapsed": true,
    "hidden": true
   },
   "source": [
    "###### Bloomberg Commodity Index \n",
    "In this file “Bloomberg Commodity Index Total Return 1990-2019.csv” we have the daily Bloomberg Commodity Total Return Index data. The Bloomberg Commodity Index (BCOM) is a broadly diversified commodity price index distributed by Bloomberg Indexes. The BCOM tracks prices of futures contracts on physical commodities on the commodity markets. The index is designed to minimize concentration in any one commodity or sector."
   ]
  },
  {
   "cell_type": "markdown",
   "metadata": {
    "ExecuteTime": {
     "end_time": "2020-02-05T02:04:28.961143Z",
     "start_time": "2020-02-05T02:04:28.951844Z"
    },
    "hidden": true
   },
   "source": [
    "###### Dow Jones Commodity Index \n",
    "In this file \"Dow Jones Commodity Index Total Return 1999-2019.csv\" we have the daily Dow Jones Commodity Index data.The Dow Jones Commodity Index is a broad-market commodity index comprised of liquid commodities. The index includes three major sectors: Energy, Agriculture and Livestock, and Metals. These sectors are equally weighted within the index and are rebalanced monthly.\n",
    "\n"
   ]
  },
  {
   "cell_type": "markdown",
   "metadata": {
    "ExecuteTime": {
     "end_time": "2020-02-05T02:04:28.961143Z",
     "start_time": "2020-02-05T02:04:28.951844Z"
    },
    "hidden": true
   },
   "source": [
    "###### S&P Goldman Sachs Commodity Index \n",
    "In this file \"S&P Goldman Sachs Commodity Index Total Return 1990-2019.csv\" we have the daily S&P Goldman Sachs Commodity Index data. S&P Goldman Sachs Commodity Index serves as a benchmark for investment in the commodity markets and as a measure of commodity performance over time. It is a tradable index that is readily available to market participants of the Chicago Mercantile Exchange. The index contains a much higher exposure to energy than other commodity price indices such as the Dow Jones-UBS Commodity Index."
   ]
  },
  {
   "cell_type": "markdown",
   "metadata": {
    "heading_collapsed": true,
    "hidden": true
   },
   "source": [
    "### REITS (Real Estate Investment Trust)\n",
    "Real estate investment trust (REITS) properties are exposed to natural hazards such as inland flood risk, coastal floods and hurricanes and typhoons. We identified four REITS that would be exposed to flood and hurricane risk: Equity Residential, Highwoods Properties, Vornado Realty Trust and Wheeler Real Estate Investment Trust. In each file, we have the daily price and return of each publicly traded real estate investment trusts.\n",
    "\n",
    "###### Equity Residential\n",
    "In this file “Equity Residential daily 1993-2018.csv” we have the daily Equity Residential REITS price from 1993-2018.\n",
    "\n",
    "Basic info:\n",
    "-\tThe data range we included in this excel sheet is from 8/12/1993 to 8/31/2018.\n",
    "-\tEach date we included price (Bid/Ask average price) and return for the REITS.\n",
    "-\tEquity Residential is publicly traded on NYSE.\n",
    "\n",
    "Notes:\n",
    "\n",
    "Equity Residential is a publicly traded real estate investment trust that invests in apartments. As of December 31, 2018, the company owned or had investments in 307 properties consisting of 79,482 apartment units in Southern California, San Francisco, Washington, D.C., New York City, Boston, Seattle, and Denver.\n",
    "\n"
   ]
  },
  {
   "cell_type": "markdown",
   "metadata": {
    "hidden": true
   },
   "source": [
    "###### Highwoods Properties\n",
    "In this file “Highwoods Properties daily 1994-2018_Carolina.csv” we have the daily Highwoods Properties REITS price from 1994-2018.\n",
    "\n",
    "Basic info:\n",
    "-\tThe data range we included in this excel sheet is from 6/8/1994 to 8/31/2018.\n",
    "-\tEach date we included price (Bid/Ask average price) and return for the REITS.\n",
    "-\tHighwoods Properties is publicly traded on NYSE.\n",
    "\n",
    "Notes:\n",
    "\n",
    "Highwoods Properties, Inc. is a REIT and a member of the S&P MidCap 400 Index. The company is a fully integrated office REIT that owns, develops, acquires, leases and manages properties primarily in the best business districts of Atlanta, Greensboro, Memphis, Nashville, Orlando, Pittsburgh, Raleigh, Richmond and Tampa.\n",
    "\n"
   ]
  },
  {
   "cell_type": "markdown",
   "metadata": {
    "hidden": true
   },
   "source": [
    "###### Vornado Realty Trust\n",
    "In this file “Vornado Realty Trust daily 1990-2018.csv” we have the daily Highwoods Properties REITS price from 1990-2018.\n",
    "\n",
    "Basic info:\n",
    "-\tThe data range we included in this excel sheet is from 1/2/1990 to 12/31/2018.\n",
    "-\tEach date we included price (Bid/Ask average price) and return for the REITS.\n",
    "-\tHighwoods Properties is publicly traded on NYSE.\n",
    "\n",
    "Notes:\n",
    "\n",
    "Vornado Realty Trust is a real estate investment trust formed in Maryland, with its primary office in New York City. The company invests in office buildings and street retail in Manhattan.\n",
    "\n"
   ]
  },
  {
   "cell_type": "markdown",
   "metadata": {
    "hidden": true
   },
   "source": [
    "###### Wheeler Real Estate Investment Trust\n",
    "In this file “Wheeler Real Estate Investment Trust daily 2012-2018_Carolina.csv” we have the daily Wheeler Real Estate Investment Trust price from 2012-2018.\n",
    "\n",
    "Basic info:\n",
    "-\tThe data range we included in this excel sheet is from 11/19/1990 to 12/31/2018.\n",
    "-\tEach date we included price (Bid/Ask average price) and return for the REITS.\n",
    "-\tHighwoods Properties is publicly traded on NYSE.\n",
    "\n",
    "Notes:\n",
    "\n",
    "Headquartered in Virginia Beach, Virginia, Wheeler Real Estate Investment Trust (WHLR) was formed with the primary objective of acquiring, financing, developing, leasing, owning and managing income producing assets such as strip centers, neighborhood centers, grocery-anchored centers, community centers and free-standing retail properties. WHLR’s portfolio consists of strategically selected properties that are located in the Mid-Atlantic, Southeast and Southwest regions of the United States.\n",
    "\n",
    "\n"
   ]
  },
  {
   "cell_type": "markdown",
   "metadata": {
    "heading_collapsed": true,
    "hidden": true
   },
   "source": [
    "### Public Utility Stock\n",
    "Public Utility Stocks are exposed to natural disaster risk. We assume that these stock price for public utility stocks will either change rapidly after any natural disaster or could have correlation with the severity of these disaster.\n",
    "\n",
    "\n",
    "###### CMS Energy Corporation \n",
    "In this file “CMS Energy Corporation 1990-2018.csv” we have the daily CMS Energy Corporation stock price and return data from 1990-2018.\n",
    "\n",
    "\n",
    "\n",
    "Basic info:\n",
    "-\tThe data range we included in this excel sheet is from 1/2/1990 to 12/31/2018.\n",
    "-\tEach date we included price (Bid/Ask average price) and return for the stock.\n",
    "-\tCMS Energy Corporation is publicly traded on NYSE.\n",
    "\n",
    "Notes:\n",
    "\n",
    "CMS Energy, based in Jackson, Michigan, is an energy company that is focused principally on utility operations in Michigan. Its principal business is Consumers Energy, a public utility that provides electricity and natural gas to more than 6 million of Michigan's 10 million residents.\n",
    "\n",
    "\n"
   ]
  },
  {
   "cell_type": "markdown",
   "metadata": {
    "heading_collapsed": true,
    "hidden": true
   },
   "source": [
    "###### Consolidated Edison\n",
    "In this file “Consolidated Edison 1990-2018.csv” we have the daily Consolidated Edison stock price and return data from 1990-2018.\n",
    "\n",
    "Basic info:\n",
    "-\tThe data range we included in this excel sheet is from 1/2/1990 to 12/31/2018.\n",
    "-\tEach date we included price (Bid/Ask average price) and return for the stock.\n",
    "-\tConsolidated Edison is publicly traded on NYSE.\n",
    "\n",
    "Notes:\n",
    "\n",
    "Consolidated Edison, Inc., commonly known as Con Edison (stylized as conEdison) or Con Ed, is one of the largest investor-owned energy companies in the United States. The company provides a wide range of energy-related products.\n",
    "\n",
    "\n",
    "\n"
   ]
  },
  {
   "cell_type": "markdown",
   "metadata": {
    "heading_collapsed": true,
    "hidden": true
   },
   "source": [
    "###### Duke Energy Corp\n",
    "In this file “Duke Energy Corp 1990-2018.csv” we have the daily Duke Energy Corp stock price and return data from 1990-2018.\n",
    "\n",
    "Basic info:\n",
    "\n",
    "-\tThe data range we included in this excel sheet is from 1/2/1990 to 12/31/2018.\n",
    "-\tEach date we included price (Bid/Ask average price) and return for the stock.\n",
    "-\tDuke Energy is publicly traded on NYSE.\n",
    "\n",
    "Notes:\n",
    "\n",
    "Duke Energy Corporation headquartered in Charlotte, North Carolina, is an American electric power holding company in the United States.\n",
    "\n",
    "\n",
    "\n"
   ]
  },
  {
   "cell_type": "markdown",
   "metadata": {
    "heading_collapsed": true,
    "hidden": true
   },
   "source": [
    "###### Florida Public Utilities\n",
    "In this file “FLORIDA PUBLIC UTILITIES 1990-2018.csv” we have the daily Florida Public Utilities stock price and return data from 1990-2018.\n",
    "\n",
    "Basic info:\n",
    "-\tThe data range we included in this excel sheet is from 1/2/1990 to 12/31/2018.\n",
    "-\tEach date we included price (Bid/Ask average price) and return for the stock.\n",
    "-\tFlorida Public Utilities is publicly traded on NYSE.\n",
    "\n",
    "Notes:\n",
    "\n",
    "Florida Public Utilities (FPU) provides natural gas, electricity and propane service to residential, commercial and industrial markets throughout Florida.\n",
    "\n",
    "\n",
    "\n",
    "\n"
   ]
  },
  {
   "cell_type": "markdown",
   "metadata": {
    "heading_collapsed": true,
    "hidden": true
   },
   "source": [
    "###### Pacific Gas & Electric\n",
    "In this file “Pacific Gas & Electric daily 1990-2018.csv” we have the daily Pacific Gas & Electric stock price and return data from 1990-2018.\n",
    "\n",
    "Basic info:\n",
    "-\tThe data range we included in this excel sheet is from 1/2/1990 to 12/31/2018.\n",
    "-\tEach date we included price (Bid/Ask average price) and return for the stock.\n",
    "-\tPacific Gas & Electric is publicly traded on NYSE.\n",
    "\n",
    "Notes:\n",
    "\n",
    "PG&E provides natural gas and electricity to most of the northern two-thirds of California. On January 14, 2019, PG&E announced that it was filing for Chapter 11 bankruptcy in response to the financial challenges associated with the catastrophic wildfires that occurred in Northern California.\n",
    "\n",
    "\n",
    "\n",
    "\n",
    "\n"
   ]
  },
  {
   "cell_type": "markdown",
   "metadata": {
    "heading_collapsed": true,
    "hidden": true
   },
   "source": [
    "###### Southern California Edison\n",
    "In this file “Southern California Edison1990-2018.csv” we have the daily Southern California Edison stock price and return data from 1990-2018.\n",
    "\n",
    "\n",
    "Basic info:\n",
    "-\tThe data range we included in this excel sheet is from 1/2/1990 to 12/31/2018.\n",
    "-\tEach date we included price (Bid/Ask average price) and return for the stock.\n",
    "-\tSouthern California Edisonis publicly traded on NYSE.\n",
    "\n",
    "Notes:\n",
    "\n",
    "Southern California Edison, the largest subsidiary of Edison International, is the primary electricity supply company for much of Southern California. It provides 14 million people with electricity across a service territory of approximately 50,000 square miles.\n",
    "\n",
    "\n",
    "\n",
    "\n",
    "\n",
    "\n"
   ]
  },
  {
   "cell_type": "markdown",
   "metadata": {
    "heading_collapsed": true,
    "hidden": true
   },
   "source": [
    "### Commodity \n",
    "Below are descriptions for the commodity data downloaded from Bloomberg Terminal. These data include future prices of wheat, corn, natural gas, thermal coal, crude oil and electricity. We would like to speculate that these commodity prices will either change rapidly after any natural disaster or could have correlation with the severity of these disaster. All listed prices are spot price either from a commodity future contract (if traded in a mercantile exchange) or directly from authorized website such as DOE's weekly spot price table for the thermal coal.\n",
    "\n",
    "\n",
    "###### Wheat Historical Commodity Prices: Chicago SRW Wheat Future \n",
    "In this file “CME SRW Wheat Future Contract Daily Price 1990-2019.csv” we have the daily Wheat Future price from 1990-2019.\n",
    "\n",
    "Basic info:\n",
    "-\tContract Unit: 5,000 bushels (~ 136 metric tons)\n",
    "-\tPrice Quotation: U.S. Dollar per bushel (27.2155 kg )\n",
    "-\tProduct Code: CME Globex: ZW, CME ClearPort: W, Clearing: W\n",
    "-\tListed Contracts: 15 monthly contracts of Mar, May, Jul, Sep, Dec listed annually following the termination of trading in the July contract of the current year.\n",
    "\n",
    "Notes:\n",
    "\n",
    "-\tThe data range we included in this excel sheet is from Jan. 2nd 1990 to Nov. 6th 2019 \n",
    "-\tVolume of trading from earlier years are not recorded from Bloomberg\n",
    "-\tEach data point is the spot price of that date, contracts with different termination date have same spot price on the same date.\n",
    "\n"
   ]
  },
  {
   "cell_type": "markdown",
   "metadata": {
    "heading_collapsed": true,
    "hidden": true
   },
   "source": [
    "###### Corn Historical Commodity Prices: CME Corn Future  \n",
    "In this file “CME Corn Futures Daily Price 1990-2019.csv” we have the daily Corn Futures price from 1990-2019.\n",
    "\n",
    "Basic info:\n",
    "-\tContract Unit\t5,000 bushels\n",
    "-\tPrice Quotation: U.S. Dollar per bushel (25.4 kg, different from previous)\n",
    "-\tProduct Code\tCME Globex: ZC, CME ClearPort: C, Clearing: C\n",
    "-\tListed Contracts: 9 monthly contracts of Mar, May, Sep and 8 monthly contracts of Jul and Dec listed annually after the termination of trading in the December contract of the current year.\n",
    "\n",
    "Notes:\n",
    "\n",
    "-\tThe unit bushel is different for different grains.\n",
    "-\tThe data range we included in this excel sheet is from Jan. 2nd 1990 to Nov. 6th 2019\n",
    "-   Each data point is the spot price of that date, contracts with different termination date have same spot price on the same date.\n",
    "\n",
    "\n"
   ]
  },
  {
   "cell_type": "markdown",
   "metadata": {
    "heading_collapsed": true,
    "hidden": true
   },
   "source": [
    "###### Crude Oil Historical Commodity Prices: CME Crude Oil Future \n",
    "In this file “CME Crude Oil Futures Daily Price 1990-2019.csv” we have the daily Crude Oil Future price from 1990-2019.\n",
    "\n",
    "Basic info:\n",
    "-\tContract Unit: 1,000 barrels\n",
    "-\tPrice Quotation: U.S. dollars and cents per barrel\n",
    "-\tListed Contracts: Monthly contracts listed for the current year and the next 10 calendar years and 2 additional contract months.  List monthly contracts for a new calendar year and 2 additional contract months following the termination of trading in the December contract of the current year.\n",
    "\n",
    "Notes: \n",
    "\n",
    "-\tEach data point is the spot price of that date, contracts with different termination date have same spot price on the same date.\n",
    "-\tThe data range we included in this excel sheet is from Jan. 2nd 1990 to Nov. 6th 2019.\n",
    "\n",
    "\n"
   ]
  },
  {
   "cell_type": "markdown",
   "metadata": {
    "heading_collapsed": true,
    "hidden": true
   },
   "source": [
    "###### Natural Gas Historical Commodity Prices: Henry Hub Natural Gas Futures \n",
    "In this file “CME Henrry Hub Natural Gas Futures Daily Price 1990-2019.csv” we have the daily Natural Gas Futures price from 1990-2019.\n",
    "\n",
    "\n",
    "Basic info:\n",
    "\n",
    "-\tContract Unit: 10,000 MMBtu\n",
    "-\tPrice Quotation: U.S. dollars and cents per MMBtu\n",
    "-\tProduct Code: CME Globex: NG, CME ClearPort: NG, Clearing: NG\n",
    "-\tListed Contracts: Monthly contracts listed for the current year and the next 12 calendar years. Add monthly contracts for a new calendar year following the termination of trading in the December contract of the current year.\n",
    "\n",
    "Notes: \n",
    "-\tEach data point is the spot price of that date, contracts with different termination date have same spot price on the same date.\n",
    "-\tThe data range we included in this excel sheet is from April 3rd 1990 to Nov. 6th 2019.\n",
    "\n",
    "\n",
    "\n"
   ]
  },
  {
   "cell_type": "markdown",
   "metadata": {
    "heading_collapsed": true,
    "hidden": true
   },
   "source": [
    "###### Electricity Commodity Historical Prices: PJM Western Hub Real-Time Off-Peak Calendar-Month 5 MW Futures\n",
    "In this file “Electricity_ CME PJM Western Hub Real-Time Off-Peak Calendar-Month 5 MW Futures Daily Price 2008-2019.csv” we have the daily Electricity Futures price from 2008-2019.\n",
    "\n",
    "\n",
    " \n",
    "Basic info: \n",
    "-\tContract Unit: 5 MWh, Clears in multiples of the number of off-peak hours in the contract month.\n",
    "-\tPrice Quotation: U.S. dollars and cents per MWh\n",
    "-\tProduct Code: CME Globex: N9L, CME ClearPort: N9, Clearing: N9\n",
    "-\tListed Contracts: Monthly contracts listed for the current year and the next 5 calendar years. List monthly contracts for a new calendar year following the termination of trading in the December contract of the current year.\n",
    "\n",
    "Notes: \n",
    "\n",
    "-\tThe data range we included in this excel sheet is from Dec. 15th 2019 to Nov. 5th 2019\n",
    "-\tEach data point is the spot price of that date, contracts with different termination date have same spot price on the same date.\n",
    "-\tThere is no record relative to the volume of trading in Electricity. \n",
    "\n"
   ]
  },
  {
   "cell_type": "markdown",
   "metadata": {
    "heading_collapsed": true,
    "hidden": true
   },
   "source": [
    "###### Thermal Coal Historical Spot Prices: Bloomberg Low Sulfur Compliance Coal Spot Price/Big Sandy Barge Fob \n",
    "In this file “Bloomberg Low Sulfur Compliance Coal Spot Price, Big Sandy Barge Fob.csv” we have the daily Thermal Coal Historical Spot Prices from 1990-2019.\n",
    " \n",
    "\n",
    "Basic info:  \n",
    "\n",
    "Prices are free-on-board (FOB) in U.S. dollars per short ton (0.907 metric tons) or 2,000 pounds. Big Sandy Barge coal meets the specifications of the New York Mercantile Exchange coal contract for 12,000 British thermal units (BTU) per pound, 13.5 % ash, 10 % moisture, and a sulfur content of 1% or less. Prices represent FOB at docks in the Central Appalachia region, near the Big Sandy River or on the Ohio River between Huntington, West Virginia and the Big Sandy River. Prices prior to 12/20/96 are yearly prices taken from the U.S.  Dept. of Energy's Coal Industry Annual report. They are stored on a daily basis to enable comparisons with other daily prices. Prices from 12/20/96 are spot prices derived from Bloomberg analysts' surveys of market participants. Prices after June 2009 are taken from the DOE's weekly spot price table located at: http://eia.doe.gov/cneaf/coal/page/coalnews/coalmar.html.\n",
    "\n",
    "Notes: \n",
    "-\tThe data range we included in this excel sheet is from Jan. 2nd 1990 to Nov. 6th 2019.\n",
    "-\tThe reason we picked low sulfur coal instead of mid sulfur coal is that based on the Clean Air Act, especially after amendments passed in 1990, drove a shift toward low-sulfur coal as one of the main methods of reducing sulfur dioxide emissions from coal plants. \n"
   ]
  }
 ],
 "metadata": {
  "kernelspec": {
   "display_name": "Python 3",
   "language": "python",
   "name": "python3"
  },
  "language_info": {
   "codemirror_mode": {
    "name": "ipython",
    "version": 3
   },
   "file_extension": ".py",
   "mimetype": "text/x-python",
   "name": "python",
   "nbconvert_exporter": "python",
   "pygments_lexer": "ipython3",
   "version": "3.8.3"
  }
 },
 "nbformat": 4,
 "nbformat_minor": 2
}
